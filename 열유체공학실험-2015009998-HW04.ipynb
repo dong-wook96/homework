{
  "nbformat": 4,
  "nbformat_minor": 0,
  "metadata": {
    "colab": {
      "name": "Untitled5.ipynb",
      "provenance": [],
      "include_colab_link": true
    },
    "kernelspec": {
      "name": "python3",
      "display_name": "Python 3"
    }
  },
  "cells": [
    {
      "cell_type": "markdown",
      "metadata": {
        "id": "view-in-github",
        "colab_type": "text"
      },
      "source": [
        "<a href=\"https://colab.research.google.com/github/dong-wook96/homework/blob/master/%EC%97%B4%EC%9C%A0%EC%B2%B4%EA%B3%B5%ED%95%99%EC%8B%A4%ED%97%98-2015009998-HW04.ipynb\" target=\"_parent\"><img src=\"https://colab.research.google.com/assets/colab-badge.svg\" alt=\"Open In Colab\"/></a>"
      ]
    },
    {
      "cell_type": "code",
      "metadata": {
        "id": "WhWyTfw1S4Qn",
        "colab_type": "code",
        "colab": {
          "base_uri": "https://localhost:8080/",
          "height": 269
        },
        "outputId": "be889938-d281-427a-e559-c58ed8745250"
      },
      "source": [
        "import numba\n",
        "import numpy as np\n",
        "\n",
        "   \n",
        "x = np.arange(1,10)\n",
        "a = int(input())\n",
        "\n",
        "def gugudan(x,a):\n",
        "  x*a\n",
        "print(x*a)\n",
        "\n",
        "%timeit numba.jit(gugudan(x,a))\n",
        "\n",
        "for i in range (1,10):\n",
        "  print(a*i)\n",
        "%timeit a*i\n"
      ],
      "execution_count": 37,
      "outputs": [
        {
          "output_type": "stream",
          "text": [
            "2\n",
            "[ 2  4  6  8 10 12 14 16 18]\n",
            "The slowest run took 16.08 times longer than the fastest. This could mean that an intermediate result is being cached.\n",
            "100000 loops, best of 3: 3.37 µs per loop\n",
            "2\n",
            "4\n",
            "6\n",
            "8\n",
            "10\n",
            "12\n",
            "14\n",
            "16\n",
            "18\n",
            "10000000 loops, best of 3: 39.9 ns per loop\n"
          ],
          "name": "stdout"
        }
      ]
    },
    {
      "cell_type": "code",
      "metadata": {
        "id": "h3xPiiMLdkZm",
        "colab_type": "code",
        "colab": {
          "base_uri": "https://localhost:8080/",
          "height": 269
        },
        "outputId": "3cfb4604-d9ec-4bc0-f51b-62a2a02889d0"
      },
      "source": [
        "import numba\n",
        "import numpy as np\n",
        "\n",
        "   \n",
        "x = np.arange(1,10)\n",
        "a = int(input())\n",
        "\n",
        "def gugudan(x,a):\n",
        "  x*a\n",
        "print(x*a)\n",
        "\n",
        "%timeit numba.jit(gugudan(x,a))\n",
        "\n",
        "for i in range (1,10):\n",
        "  print(a*i)\n",
        "%timeit a*i\n"
      ],
      "execution_count": 39,
      "outputs": [
        {
          "output_type": "stream",
          "text": [
            "2\n",
            "[ 2  4  6  8 10 12 14 16 18]\n",
            "The slowest run took 15.50 times longer than the fastest. This could mean that an intermediate result is being cached.\n",
            "100000 loops, best of 3: 3.37 µs per loop\n",
            "2\n",
            "4\n",
            "6\n",
            "8\n",
            "10\n",
            "12\n",
            "14\n",
            "16\n",
            "18\n",
            "10000000 loops, best of 3: 36.7 ns per loop\n"
          ],
          "name": "stdout"
        }
      ]
    }
  ]
}